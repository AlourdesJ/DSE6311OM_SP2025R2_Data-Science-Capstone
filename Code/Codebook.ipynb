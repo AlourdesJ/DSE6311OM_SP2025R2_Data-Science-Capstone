{
  "nbformat": 4,
  "nbformat_minor": 0,
  "metadata": {
    "colab": {
      "provenance": [],
      "authorship_tag": "ABX9TyNuCPB73TuVygT4UUVZhQxh",
      "include_colab_link": true
    },
    "kernelspec": {
      "name": "python3",
      "display_name": "Python 3"
    },
    "language_info": {
      "name": "python"
    }
  },
  "cells": [
    {
      "cell_type": "markdown",
      "metadata": {
        "id": "view-in-github",
        "colab_type": "text"
      },
      "source": [
        "<a href=\"https://colab.research.google.com/github/AlourdesJ/DSE6311OM_SP2025R2_Data-Science-Capstone/blob/main/Codebook.ipynb\" target=\"_parent\"><img src=\"https://colab.research.google.com/assets/colab-badge.svg\" alt=\"Open In Colab\"/></a>"
      ]
    },
    {
      "cell_type": "code",
      "execution_count": 5,
      "metadata": {
        "colab": {
          "base_uri": "https://localhost:8080/",
          "height": 73
        },
        "id": "UoYM63CBWJgJ",
        "outputId": "e8ea5acb-fd92-4981-d992-9f77d1325fd4"
      },
      "outputs": [
        {
          "output_type": "stream",
          "name": "stdout",
          "text": [
            "Drive already mounted at /content/drive; to attempt to forcibly remount, call drive.mount(\"/content/drive\", force_remount=True).\n"
          ]
        },
        {
          "output_type": "execute_result",
          "data": {
            "text/plain": [
              "'/content/drive/MyDrive/codebook_mental_health_utilization.csv'"
            ],
            "application/vnd.google.colaboratory.intrinsic+json": {
              "type": "string"
            }
          },
          "metadata": {},
          "execution_count": 5
        }
      ],
      
import pandas as pd
# Mount Google Drive
from google.colab import drive
drive.mount('/content/drive')

# Create a codebook dictionary
codebook_data = [
    {"Variable Name": "state", "Description": "U.S. state name", "Type": "Categorical", "Value Range / Categories": "50 states + D.C.", "Source": "All datasets"},
    {"Variable Name": "year", "Description": "Year of observation", "Type": "Numeric", "Value Range / Categories": "2013–2023", "Source": "All datasets"},
    {"Variable Name": "population", "Description": "State-level population estimate", "Type": "Numeric", "Value Range / Categories": "Varies by state/year", "Source": "U.S. Census"},
    {"Variable Name": "mean_trends", "Description": "Average Google Trends score for mental health-related search terms", "Type": "Continuous", "Value Range / Categories": "0–100", "Source": "Google Trends (Faraji & Hennigan, 2024)"},
    {"Variable Name": "total_facilities", "Description": "Number of mental health facilities in a state", "Type": "Integer", "Value Range / Categories": "Varies", "Source": "NSUMHSS"},
    {"Variable Name": "per_capita_total_facilities", "Description": "Facilities per 100,000 people", "Type": "Continuous", "Value Range / Categories": "~0–25", "Source": "Derived"},
    {"Variable Name": "mental_health_only_facilities", "Description": "Facilities focused solely on mental health", "Type": "Integer", "Value Range / Categories": "0–1000+", "Source": "NSUMHSS"},
    {"Variable Name": "inpatient_facilities", "Description": "Facilities providing inpatient care", "Type": "Integer", "Value Range / Categories": "0–1000+", "Source": "NSUMHSS"},
    {"Variable Name": "pct_pharmacotherapy", "Description": "% of facilities offering pharmacotherapy", "Type": "Percent", "Value Range / Categories": "0–100%", "Source": "NSUMHSS"},
    {"Variable Name": "pct_youth_services", "Description": "% of facilities offering youth/child services", "Type": "Percent", "Value Range / Categories": "0–100%", "Source": "NSUMHSS"},
    {"Variable Name": "pct_counseling_services", "Description": "% of facilities offering counseling", "Type": "Percent", "Value Range / Categories": "0–100%", "Source": "NSUMHSS"},
    {"Variable Name": "pct_free_services", "Description": "% of facilities offering free care", "Type": "Percent", "Value Range / Categories": "0–100%", "Source": "NSUMHSS"},
    {"Variable Name": "pct_medicare", "Description": "% of facilities accepting Medicare", "Type": "Percent", "Value Range / Categories": "0–100%", "Source": "NSUMHSS"},
    {"Variable Name": "total_utilization", "Description": "Combined utilization (outpatient + inpatient, if calculated)", "Type": "Numeric", "Value Range / Categories": "Varies", "Source": "Derived (optional)"},
    {"Variable Name": "region", "Description": "U.S. Census Bureau region", "Type": "Categorical", "Value Range / Categories": "South, Midwest, Northeast, West", "Source": "Derived"},
    {"Variable Name": "cluster", "Description": "Cluster assignment from K-means clustering", "Type": "Categorical", "Value Range / Categories": "0, 1, 2, ...", "Source": "Derived"},
    {"Variable Name": "poverty_rate", "Description": "% of population below poverty line", "Type": "Percent", "Value Range / Categories": "~5–25%", "Source": "Socioeconomic dataset"},
    {"Variable Name": "unemployment_rate", "Description": "State-level unemployment rate", "Type": "Percent", "Value Range / Categories": "~2–15%", "Source": "Socioeconomic dataset"},
    {"Variable Name": "insured_rate", "Description": "% of population with health insurance", "Type": "Percent", "Value Range / Categories": "~70–100%", "Source": "Socioeconomic dataset"},
    {"Variable Name": "mean_all_trends", "Description": "Mean of all mental health search terms", "Type": "Continuous", "Value Range / Categories": "0–100", "Source": "Google Trends"},
    {"Variable Name": "utilization_diff", "Description": "Year-over-year change in utilization", "Type": "Continuous", "Value Range / Categories": "Can be negative or positive", "Source": "Derived"},
    {"Variable Name": "trend_diff", "Description": "Year-over-year change in search score", "Type": "Continuous", "Value Range / Categories": "Can be negative or positive", "Source": "Derived"},
    {"Variable Name": "covid_flag", "Description": "Indicates if the year is during or after the COVID-19 pandemic start", "Type": "Binary", "Value Range / Categories": "0 = Pre-2020, 1 = 2020 and later", "Source": "Derived"}
]

   

# Convert to DataFrame
codebook_df = pd.DataFrame(codebook_data)

# Save to CSV
codebook_path = "/content/drive/MyDrive/codebook_mental_health_utilization.csv"
codebook_df.to_csv(codebook_path, index=False)


codebook_path
