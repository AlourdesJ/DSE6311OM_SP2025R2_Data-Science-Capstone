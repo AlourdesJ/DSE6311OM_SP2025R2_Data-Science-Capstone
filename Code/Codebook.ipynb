{
  "nbformat": 4,
  "nbformat_minor": 0,
  "metadata": {
    "colab": {
      "provenance": [],
      "authorship_tag": "ABX9TyNuCPB73TuVygT4UUVZhQxh",
      "include_colab_link": true
    },
    "kernelspec": {
      "name": "python3",
      "display_name": "Python 3"
    },
    "language_info": {
      "name": "python"
    }
  },
  "cells": [
    {
      "cell_type": "markdown",
      "metadata": {
        "id": "view-in-github",
        "colab_type": "text"
      },
      "source": [
        "<a href=\"https://colab.research.google.com/github/AlourdesJ/DSE6311OM_SP2025R2_Data-Science-Capstone/blob/main/Codebook.ipynb\" target=\"_parent\"><img src=\"https://colab.research.google.com/assets/colab-badge.svg\" alt=\"Open In Colab\"/></a>"
      ]
    },
    {
      "cell_type": "code",
      "execution_count": 5,
      "metadata": {
        "colab": {
          "base_uri": "https://localhost:8080/",
          "height": 73
        },
        "id": "UoYM63CBWJgJ",
        "outputId": "e8ea5acb-fd92-4981-d992-9f77d1325fd4"
      },
      "outputs": [
        {
          "output_type": "stream",
          "name": "stdout",
          "text": [
            "Drive already mounted at /content/drive; to attempt to forcibly remount, call drive.mount(\"/content/drive\", force_remount=True).\n"
          ]
        },
        {
          "output_type": "execute_result",
          "data": {
            "text/plain": [
              "'/content/drive/MyDrive/codebook_mental_health_utilization.csv'"
            ],
            "application/vnd.google.colaboratory.intrinsic+json": {
              "type": "string"
            }
          },
          "metadata": {},
          "execution_count": 5
        }
      ],
      "source": [
        "import pandas as pd\n",
        "# Mount Google Drive\n",
        "from google.colab import drive\n",
        "drive.mount('/content/drive')\n",
        "\n",
        "# Create a codebook dictionary\n",
        "codebook_data = [\n",
        "    {\"Variable Name\": \"state\", \"Description\": \"U.S. state name\", \"Type\": \"Categorical\", \"Value Range / Categories\": \"50 states + D.C.\", \"Source\": \"All datasets\"},\n",
        "    {\"Variable Name\": \"year\", \"Description\": \"Year of observation\", \"Type\": \"Numeric\", \"Value Range / Categories\": \"2013–2023\", \"Source\": \"All datasets\"},\n",
        "    {\"Variable Name\": \"population\", \"Description\": \"State-level population estimate\", \"Type\": \"Numeric\", \"Value Range / Categories\": \"Varies by state/year\", \"Source\": \"U.S. Census\"},\n",
        "    {\"Variable Name\": \"mean_trends\", \"Description\": \"Average Google Trends score for mental health-related search terms\", \"Type\": \"Continuous\", \"Value Range / Categories\": \"0–100\", \"Source\": \"Google Trends (Faraji & Hennigan, 2024)\"},\n",
        "    {\"Variable Name\": \"total_facilities\", \"Description\": \"Number of mental health facilities in a state\", \"Type\": \"Integer\", \"Value Range / Categories\": \"Varies\", \"Source\": \"NSUMHSS\"},\n",
        "    {\"Variable Name\": \"per_capita_total_facilities\", \"Description\": \"Facilities per 100,000 people\", \"Type\": \"Continuous\", \"Value Range / Categories\": \"~0–25\", \"Source\": \"Derived\"},\n",
        "    {\"Variable Name\": \"mental_health_only_facilities\", \"Description\": \"Facilities focused solely on mental health\", \"Type\": \"Integer\", \"Value Range / Categories\": \"0–1000+\", \"Source\": \"NSUMHSS\"},\n",
        "    {\"Variable Name\": \"inpatient_facilities\", \"Description\": \"Facilities providing inpatient care\", \"Type\": \"Integer\", \"Value Range / Categories\": \"0–1000+\", \"Source\": \"NSUMHSS\"},\n",
        "    {\"Variable Name\": \"pct_pharmacotherapy\", \"Description\": \"% of facilities offering pharmacotherapy\", \"Type\": \"Percent\", \"Value Range / Categories\": \"0–100%\", \"Source\": \"NSUMHSS\"},\n",
        "    {\"Variable Name\": \"pct_youth_services\", \"Description\": \"% of facilities offering youth/child services\", \"Type\": \"Percent\", \"Value Range / Categories\": \"0–100%\", \"Source\": \"NSUMHSS\"},\n",
        "    {\"Variable Name\": \"pct_counseling_services\", \"Description\": \"% of facilities offering counseling\", \"Type\": \"Percent\", \"Value Range / Categories\": \"0–100%\", \"Source\": \"NSUMHSS\"},\n",
        "    {\"Variable Name\": \"pct_free_services\", \"Description\": \"% of facilities offering free care\", \"Type\": \"Percent\", \"Value Range / Categories\": \"0–100%\", \"Source\": \"NSUMHSS\"},\n",
        "    {\"Variable Name\": \"pct_medicare\", \"Description\": \"% of facilities accepting Medicare\", \"Type\": \"Percent\", \"Value Range / Categories\": \"0–100%\", \"Source\": \"NSUMHSS\"},\n",
        "    {\"Variable Name\": \"total_utilization\", \"Description\": \"Combined utilization (outpatient + inpatient, if calculated)\", \"Type\": \"Numeric\", \"Value Range / Categories\": \"Varies\", \"Source\": \"Derived (optional)\"},\n",
        "    {\"Variable Name\": \"region\", \"Description\": \"U.S. Census Bureau region\", \"Type\": \"Categorical\", \"Value Range / Categories\": \"South, Midwest, Northeast, West\", \"Source\": \"Derived\"},\n",
        "    {\"Variable Name\": \"cluster\", \"Description\": \"Cluster assignment from K-means clustering\", \"Type\": \"Categorical\", \"Value Range / Categories\": \"0, 1, 2, ...\", \"Source\": \"Derived\"},\n",
        "    {\"Variable Name\": \"poverty_rate\", \"Description\": \"% of population below poverty line\", \"Type\": \"Percent\", \"Value Range / Categories\": \"~5–25%\", \"Source\": \"Socioeconomic dataset\"},\n",
        "    {\"Variable Name\": \"unemployment_rate\", \"Description\": \"State-level unemployment rate\", \"Type\": \"Percent\", \"Value Range / Categories\": \"~2–15%\", \"Source\": \"Socioeconomic dataset\"},\n",
        "    {\"Variable Name\": \"insured_rate\", \"Description\": \"% of population with health insurance\", \"Type\": \"Percent\", \"Value Range / Categories\": \"~70–100%\", \"Source\": \"Socioeconomic dataset\"},\n",
        "    {\"Variable Name\": \"mean_all_trends\", \"Description\": \"Mean of all mental health search terms\", \"Type\": \"Continuous\", \"Value Range / Categories\": \"0–100\", \"Source\": \"Google Trends\"},\n",
        "    {\"Variable Name\": \"utilization_diff\", \"Description\": \"Year-over-year change in utilization\", \"Type\": \"Continuous\", \"Value Range / Categories\": \"Can be negative or positive\", \"Source\": \"Derived\"},\n",
        "    {\"Variable Name\": \"trend_diff\", \"Description\": \"Year-over-year change in search score\", \"Type\": \"Continuous\", \"Value Range / Categories\": \"Can be negative or positive\", \"Source\": \"Derived\"},\n",
        "]\n",
        "\n",
        "# Convert to DataFrame\n",
        "codebook_df = pd.DataFrame(codebook_data)\n",
        "\n",
        "# Save to CSV\n",
        "codebook_path = \"/content/drive/MyDrive/codebook_mental_health_utilization.csv\"\n",
        "codebook_df.to_csv(codebook_path, index=False)\n",
        "\n",
        "\n",
        "codebook_path\n"
      ]



import pandas as pd
import matplotlib.pyplot as plt
from matplotlib.backends.backend_pdf import PdfPages

# 1. Codebook data (paste the enhanced list here)
codebook_data = [
    {"Variable Name": "state", "Description": "U.S. state name", "Type": "Categorical", "Value Range / Categories": "50 states + D.C.", "Source": "All datasets", "Category": "Demographic"},
    {"Variable Name": "year", "Description": "Year of observation", "Type": "Numeric", "Value Range / Categories": "2013–2023", "Source": "All datasets", "Category": "Demographic"},
    {"Variable Name": "population", "Description": "State-level population estimate", "Type": "Numeric", "Value Range / Categories": "Varies by state/year", "Source": "U.S. Census", "Category": "Demographic"},
    {"Variable Name": "mean_trends", "Description": "Average Google Trends score for mental health-related search terms", "Type": "Continuous", "Value Range / Categories": "0–100", "Source": "Google Trends (Faraji & Hennigan, 2024)", "Category": "Trend Data"},
    {"Variable Name": "mean_all_trends", "Description": "Mean of all mental health search terms", "Type": "Continuous", "Value Range / Categories": "0–100", "Source": "Google Trends", "Category": "Trend Data"},
    {"Variable Name": "trend_diff", "Description": "Year-over-year change in search score", "Type": "Continuous", "Value Range / Categories": "Can be negative or positive", "Source": "Derived", "Category": "Derived/Engineered"},
    {"Variable Name": "total_facilities", "Description": "Number of mental health facilities in a state", "Type": "Integer", "Value Range / Categories": "Varies", "Source": "NSUMHSS", "Category": "Facility Characteristics"},
    {"Variable Name": "per_capita_total_facilities", "Description": "Facilities per 100,000 people", "Type": "Continuous", "Value Range / Categories": "~0–25", "Source": "Derived", "Category": "Derived/Engineered"},
    {"Variable Name": "mental_health_only_facilities", "Description": "Facilities focused solely on mental health", "Type": "Integer", "Value Range / Categories": "0–1000+", "Source": "NSUMHSS", "Category": "Facility Characteristics"},
    {"Variable Name": "inpatient_facilities", "Description": "Facilities providing inpatient care", "Type": "Integer", "Value Range / Categories": "0–1000+", "Source": "NSUMHSS", "Category": "Facility Characteristics"},
    {"Variable Name": "pct_pharmacotherapy", "Description": "% of facilities offering pharmacotherapy", "Type": "Percent", "Value Range / Categories": "0–100%", "Source": "NSUMHSS", "Category": "Facility Characteristics"},
    {"Variable Name": "pct_youth_services", "Description": "% of facilities offering youth/child services", "Type": "Percent", "Value Range / Categories": "0–100%", "Source": "NSUMHSS", "Category": "Facility Characteristics"},
    {"Variable Name": "pct_counseling_services", "Description": "% of facilities offering counseling", "Type": "Percent", "Value Range / Categories": "0–100%", "Source": "NSUMHSS", "Category": "Facility Characteristics"},
    {"Variable Name": "pct_free_services", "Description": "% of facilities offering free care", "Type": "Percent", "Value Range / Categories": "0–100%", "Source": "NSUMHSS", "Category": "Facility Characteristics"},
    {"Variable Name": "pct_medicare", "Description": "% of facilities accepting Medicare", "Type": "Percent", "Value Range / Categories": "0–100%", "Source": "NSUMHSS", "Category": "Facility Characteristics"},
    {"Variable Name": "total_utilization", "Description": "Combined utilization (outpatient + inpatient, if calculated)", "Type": "Numeric", "Value Range / Categories": "Varies", "Source": "Derived (optional)", "Category": "Derived/Engineered"},
    {"Variable Name": "utilization_diff", "Description": "Year-over-year change in utilization", "Type": "Continuous", "Value Range / Categories": "Can be negative or positive", "Source": "Derived", "Category": "Derived/Engineered"},
    {"Variable Name": "region", "Description": "U.S. Census Bureau region", "Type": "Categorical", "Value Range / Categories": "South, Midwest, Northeast, West", "Source": "Derived", "Category": "Demographic"},
    {"Variable Name": "cluster", "Description": "Cluster assignment from K-means clustering", "Type": "Categorical", "Value Range / Categories": "0, 1, 2, ...", "Source": "Derived", "Category": "Model Output"},
    {"Variable Name": "poverty_rate", "Description": "% of population below poverty line", "Type": "Percent", "Value Range / Categories": "~5–25%", "Source": "Socioeconomic dataset", "Category": "Socioeconomic"},
    {"Variable Name": "unemployment_rate", "Description": "State-level unemployment rate", "Type": "Percent", "Value Range / Categories": "~2–15%", "Source": "Socioeconomic dataset", "Category": "Socioeconomic"},
    {"Variable Name": "insured_rate", "Description": "% of population with health insurance", "Type": "Percent", "Value Range / Categories": "~70–100%", "Source": "Socioeconomic dataset", "Category": "Socioeconomic"}
]

# 2. Convert to DataFrame
codebook_df = pd.DataFrame(codebook_data)

# 3. Save as PDF (auto paginate if too long)
def export_codebook_pdf(df, filename="codebook.pdf"):
    with PdfPages(filename) as pdf:
        rows_per_page = 20
        total_pages = (len(df) - 1) // rows_per_page + 1
        
        for page in range(total_pages):
            fig, ax = plt.subplots(figsize=(12, 0.5 * rows_per_page + 2))
            start = page * rows_per_page
            end = start + rows_per_page
            df_slice = df.iloc[start:end]

            ax.axis("off")
            table = ax.table(cellText=df_slice.values,
                             colLabels=df_slice.columns,
                             cellLoc='left',
                             loc='center')
            table.auto_set_font_size(False)
            table.set_fontsize(8)
            table.scale(1.7, 1.7)
            plt.title(f"Codebook (Page {page + 1} of {total_pages})", fontsize=12, pad=20)
            pdf.savefig(fig, bbox_inches='tight')
            plt.close()

# 4. Export PDF
output_path = "/content/drive/MyDrive/codebook_mental_health_utilization.pdf"
# Create the folder 'YourFolder' in your Google Drive first and use:
# output_path = "/content/drive/MyDrive/YourFolder/custom_codebook_name.pdf" 

export_codebook_pdf(codebook_df, filename=output_path)
print(f"✅ PDF codebook saved to: {output_path}")
    }
  ]
}
